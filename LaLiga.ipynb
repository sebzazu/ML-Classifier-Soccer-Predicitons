{
 "cells": [
  {
   "cell_type": "markdown",
   "id": "2f2a7446",
   "metadata": {},
   "source": [
    "# Machine Learning Model to Predict Outcomes of LaLiga Soccer Matches"
   ]
  },
  {
   "cell_type": "code",
   "execution_count": 20,
   "id": "1e54e8f3",
   "metadata": {},
   "outputs": [],
   "source": [
    "import pandas as pd\n",
    "import numpy as np"
   ]
  },
  {
   "cell_type": "markdown",
   "id": "822dc914",
   "metadata": {},
   "source": [
    "## Load in LaLiga data from 2023. \n",
    "Resource: fbref.com"
   ]
  },
  {
   "cell_type": "code",
   "execution_count": 22,
   "id": "39620a4c",
   "metadata": {},
   "outputs": [],
   "source": [
    "fileName=\"LaLiga-Data-22to23.xlsx\"\n",
    "\n",
    "df = pd.read_excel(fileName)"
   ]
  },
  {
   "cell_type": "code",
   "execution_count": 3,
   "id": "c7d4ce4c",
   "metadata": {},
   "outputs": [],
   "source": [
    "df = df.dropna(how='all')"
   ]
  },
  {
   "cell_type": "markdown",
   "id": "0973bd71",
   "metadata": {},
   "source": [
    "## Change MatchResult from Text Field to Int\n",
    "These are the three categories our model will place our data points into"
   ]
  },
  {
   "cell_type": "code",
   "execution_count": 5,
   "id": "1ea9f348",
   "metadata": {},
   "outputs": [],
   "source": [
    "matchResults = []\n",
    "resultsDict = {\"homeWin\":2, \"draw\":1,'awayWin':0}\n",
    "\n",
    "for i in range(len(df['Score'])):\n",
    "    \n",
    "    scoreString = df.iloc[i,6]\n",
    "    \n",
    "    if type(scoreString) == str:\n",
    "        if int(scoreString[0]) > int(scoreString[2]):\n",
    "            matchResults.append(resultsDict[\"homeWin\"])\n",
    "        elif int(scoreString[0]<scoreString[2]):\n",
    "            matchResults.append(resultsDict[\"awayWin\"])\n",
    "        else:\n",
    "            matchResults.append(resultsDict[\"draw\"])\n",
    "    else:\n",
    "        matchResults.append(None)\n",
    "    \n",
    "\n",
    "\n",
    "df[\"matchResults\"]=matchResults"
   ]
  },
  {
   "cell_type": "markdown",
   "id": "32d9b12f",
   "metadata": {},
   "source": [
    "## Convert Team Names into Position at End of Year\n",
    "If we are trying to predict the outcome of a current game we will use the predicted final standings"
   ]
  },
  {
   "cell_type": "code",
   "execution_count": 7,
   "id": "4d072741",
   "metadata": {},
   "outputs": [],
   "source": [
    "homePos = []\n",
    "awayPos = []\n",
    "\n",
    "teamPosDict = {\"Barcelona\":1, \"Real Madrid\": 2, \"Atlético Madrid\": 3, \"Real Sociedad\":4, \"Villarreal\":5,\n",
    "               \"Betis\":6, \"Osasuna\":7,\"Athletic Club\":8,\"Mallorca\":9, \"Girona\":10, \"Rayo Vallecano\":11,\n",
    "              \"Sevilla\":12, \"Celta Vigo\":13, \"Cádiz\":14, \"Getafe\":15, \"Valencia\":16, \"Almería\":17,\n",
    "              \"Valladolid\":18, \"Espanyol\":19,\"Elche\":20 }\n",
    "\n",
    "for i in range(len(df['Home'])):\n",
    "    if df.iloc[i,4] in teamPosDict:\n",
    "        homePos.append(teamPosDict[df.iloc[i,4]])\n",
    "    else:\n",
    "        homePos.append(None)\n",
    "    \n",
    "    if df.iloc[i,8] in teamPosDict:\n",
    "        awayPos.append(teamPosDict[df.iloc[i,8]])\n",
    "    else:\n",
    "        awayPos.append(None)\n",
    "    \n",
    "    \n",
    "\n",
    "df[\"Home Team Position\"] = homePos\n",
    "df[\"Away Team Position\"] = awayPos"
   ]
  },
  {
   "cell_type": "markdown",
   "id": "ffe36e22",
   "metadata": {},
   "source": [
    "## Define Two Functions to Find Average Goals For and Against Each Team\n",
    "This will allow us to fill null values and early games with mean data"
   ]
  },
  {
   "cell_type": "code",
   "execution_count": 23,
   "id": "d4d9e45f",
   "metadata": {},
   "outputs": [],
   "source": [
    "def findMeanGoalsFor(team):\n",
    "    totalGoalsFor = 0\n",
    " \n",
    "    totalGames = 0\n",
    "    for i in range(len(df[\"Home\"])):\n",
    "        if df.iloc[i,4] == team:\n",
    "            totalGames += 1\n",
    "            totalGoalsFor += int(df.iloc[i,6][0])\n",
    "        elif df.iloc[i,8] == team:\n",
    "            totalGames += 1\n",
    "            totalGoalsFor += int(df.iloc[i,6][2])\n",
    "    if totalGames > 0:\n",
    "        return totalGoalsFor/totalGames\n",
    "    else:\n",
    "        return \"ISSUE\"\n",
    "\n",
    "def findMeanGoalsAgainst(team):\n",
    "    totalGoalsAgainst = 0\n",
    "    \n",
    "    totalGames = 0\n",
    "    for i in range(len(df[\"Home\"])):\n",
    "        if df.iloc[i,4] == team:\n",
    "            totalGames += 1\n",
    "            totalGoalsAgainst += int(df.iloc[i,6][2])\n",
    "        elif df.iloc[i,8] == team:\n",
    "            totalGames += 1\n",
    "            totalGoalsAgainst += int(df.iloc[i,6][0])\n",
    "    if totalGames > 0:\n",
    "        return totalGoalsAgainst/totalGames\n",
    "    else:\n",
    "        return \"ISSUE\"\n",
    "\n",
    "    "
   ]
  },
  {
   "cell_type": "markdown",
   "id": "d8a7697d",
   "metadata": {},
   "source": [
    "## Add in four metrics that reflect how many goals a team has scored and allowed in last three games\n",
    "Four because we have Home and Away teams"
   ]
  },
  {
   "cell_type": "code",
   "execution_count": 24,
   "id": "f906b709",
   "metadata": {},
   "outputs": [],
   "source": [
    "goalsForLast3Home = []\n",
    "goalsAgainstLast3Home = []\n",
    "goalsForLast3Away = []\n",
    "goalsAgainstLast3Away = []\n",
    "\n",
    "for i in range(len(df[\"Home\"])):\n",
    "    if df.iloc[i,0]<= 3.0:\n",
    "        goalsForLast3Home.append(0)\n",
    "        goalsAgainstLast3Home.append(0)\n",
    "        goalsForLast3Away.append(0)\n",
    "        goalsAgainstLast3Away.append(0)\n",
    "    else:\n",
    "        homeTeam = df.iloc[i,4]\n",
    "        awayTeam = df.iloc[i,8]\n",
    "        \n",
    "        tempHomeForLast3 = []\n",
    "        tempAwayForLast3 = []\n",
    "        \n",
    "        tempHomeAgainstLast3 = []\n",
    "        tempAwayAgainstLast3 = []\n",
    "        \n",
    "        j = i\n",
    "        for num in range(len(df[\"Home\"])):\n",
    "            j -= 1\n",
    "            if (df.iloc[j,4] == homeTeam and len(tempHomeForLast3) < 3):\n",
    "                tempHomeForLast3.append(int(df.iloc[j,6][0]))\n",
    "                tempHomeAgainstLast3.append(int(df.iloc[j,6][2]))\n",
    "            elif (df.iloc[j,8] == homeTeam and len(tempHomeForLast3) < 3):\n",
    "                tempHomeForLast3.append(int(df.iloc[j,6][2]))\n",
    "                tempHomeAgainstLast3.append(int(df.iloc[j,6][0]))\n",
    "            elif (df.iloc[j,4] == awayTeam and len(tempAwayForLast3)<3):\n",
    "                tempAwayForLast3.append(int(df.iloc[j,6][0]))\n",
    "                tempAwayAgainstLast3.append(int(df.iloc[j,6][2]))\n",
    "            elif (df.iloc[j,4] == awayTeam and len(tempAwayForLast3)<3):\n",
    "                tempAwayForLast3.append(int(df.iloc[j,6][2]))\n",
    "                tempAwayAgainstLast3.append(int(df.iloc[j,6][0]))\n",
    "            elif len(tempHomeForLast3) ==3 and len(tempAwayForLast3) ==3:\n",
    "                break\n",
    "        goalsForLast3Home.append(sum(tempHomeForLast3))\n",
    "        goalsForLast3Away.append(sum(tempAwayForLast3))\n",
    "        \n",
    "        goalsAgainstLast3Home.append(sum(tempHomeAgainstLast3))\n",
    "        goalsAgainstLast3Away.append(sum(tempAwayAgainstLast3))\n",
    "\n",
    "df[\"Goals FOR L3 (Home)\"] = goalsForLast3Home\n",
    "df[\"Goals FOR L3 (Away)\"] = goalsForLast3Away\n",
    "\n",
    "df[\"Goals AGAINST L3 (Home)\"] = goalsAgainstLast3Home\n",
    "df[\"Goals AGAINST L3 (Away)\"] = goalsAgainstLast3Away\n",
    "        "
   ]
  },
  {
   "cell_type": "markdown",
   "id": "e0433dd0",
   "metadata": {},
   "source": [
    "## Replace null values with mean goals"
   ]
  },
  {
   "cell_type": "code",
   "execution_count": 10,
   "id": "3d076e75",
   "metadata": {},
   "outputs": [],
   "source": [
    "for i in range(len(df[\"Home\"])):\n",
    "    if (df.iloc[i,17] + df.iloc[i,18] + df.iloc[i,19]+df.iloc[i,20]) == 0 and df.iloc[i,4] != \"nan\":\n",
    "        df.iloc[i,17] = findMeanGoalsFor(df.iloc[i,4])\n",
    "        df.iloc[i,18] = findMeanGoalsFor(df.iloc[i,8])\n",
    "        df.iloc[i,19] = findMeanGoalsAgainst(df.iloc[i,4])\n",
    "        df.iloc[i,20] = findMeanGoalsAgainst(df.iloc[i,8])"
   ]
  },
  {
   "cell_type": "markdown",
   "id": "be384d75",
   "metadata": {},
   "source": [
    "## Replace each day with number code"
   ]
  },
  {
   "cell_type": "code",
   "execution_count": 25,
   "id": "4245ff7a",
   "metadata": {},
   "outputs": [],
   "source": [
    "dayDict = {\"Fri\":5,\"Thu\":4,\"Wed\":3,\"Tue\":2,\"Mon\":1,\"Sat\":6,\"Sun\":7}\n",
    "\n",
    "for i in range(len(df[\"Day\"])):\n",
    "    if df.iloc[i,1] in dayDict:\n",
    "        df.iloc[i,1] = dayDict[df.iloc[i,1]]"
   ]
  },
  {
   "cell_type": "markdown",
   "id": "517bbb2d",
   "metadata": {},
   "source": [
    "## Remove any data containing null values"
   ]
  },
  {
   "cell_type": "code",
   "execution_count": 12,
   "id": "c2ed85bb",
   "metadata": {},
   "outputs": [],
   "source": [
    "df = df.drop([\"Match Report\", \"Notes\",\"Venue\",\"Referee\",\"Date\",\"Time\"],axis=1)\n",
    "\n",
    "df = df.dropna(how=\"any\")\n",
    "\n",
    "df = df.reset_index(drop=True)"
   ]
  },
  {
   "cell_type": "code",
   "execution_count": 13,
   "id": "8be6a300",
   "metadata": {
    "scrolled": true
   },
   "outputs": [
    {
     "data": {
      "text/html": [
       "<div>\n",
       "<style scoped>\n",
       "    .dataframe tbody tr th:only-of-type {\n",
       "        vertical-align: middle;\n",
       "    }\n",
       "\n",
       "    .dataframe tbody tr th {\n",
       "        vertical-align: top;\n",
       "    }\n",
       "\n",
       "    .dataframe thead th {\n",
       "        text-align: right;\n",
       "    }\n",
       "</style>\n",
       "<table border=\"1\" class=\"dataframe\">\n",
       "  <thead>\n",
       "    <tr style=\"text-align: right;\">\n",
       "      <th></th>\n",
       "      <th>WK</th>\n",
       "      <th>Day</th>\n",
       "      <th>Home</th>\n",
       "      <th>xG</th>\n",
       "      <th>Score</th>\n",
       "      <th>xG.1</th>\n",
       "      <th>Away</th>\n",
       "      <th>Attendance</th>\n",
       "      <th>matchResults</th>\n",
       "      <th>Home Team Position</th>\n",
       "      <th>Away Team Position</th>\n",
       "      <th>Goals FOR L3 (Home)</th>\n",
       "      <th>Goals FOR L3 (Away)</th>\n",
       "      <th>Goals AGAINST L3 (Home)</th>\n",
       "      <th>Goals AGAINST L3 (Away)</th>\n",
       "    </tr>\n",
       "  </thead>\n",
       "  <tbody>\n",
       "    <tr>\n",
       "      <th>0</th>\n",
       "      <td>1.0</td>\n",
       "      <td>5</td>\n",
       "      <td>Osasuna</td>\n",
       "      <td>1.5</td>\n",
       "      <td>2–1</td>\n",
       "      <td>0.9</td>\n",
       "      <td>Sevilla</td>\n",
       "      <td>18536.0</td>\n",
       "      <td>2.0</td>\n",
       "      <td>7.0</td>\n",
       "      <td>12.0</td>\n",
       "      <td>0.973684</td>\n",
       "      <td>1.236842</td>\n",
       "      <td>1.105263</td>\n",
       "      <td>1.421053</td>\n",
       "    </tr>\n",
       "    <tr>\n",
       "      <th>1</th>\n",
       "      <td>1.0</td>\n",
       "      <td>6</td>\n",
       "      <td>Celta Vigo</td>\n",
       "      <td>0.4</td>\n",
       "      <td>2–2</td>\n",
       "      <td>1.1</td>\n",
       "      <td>Espanyol</td>\n",
       "      <td>13859.0</td>\n",
       "      <td>1.0</td>\n",
       "      <td>13.0</td>\n",
       "      <td>19.0</td>\n",
       "      <td>1.131579</td>\n",
       "      <td>1.368421</td>\n",
       "      <td>1.394737</td>\n",
       "      <td>1.815789</td>\n",
       "    </tr>\n",
       "    <tr>\n",
       "      <th>2</th>\n",
       "      <td>1.0</td>\n",
       "      <td>6</td>\n",
       "      <td>Valladolid</td>\n",
       "      <td>1.0</td>\n",
       "      <td>0–3</td>\n",
       "      <td>1.5</td>\n",
       "      <td>Villarreal</td>\n",
       "      <td>17543.0</td>\n",
       "      <td>0.0</td>\n",
       "      <td>18.0</td>\n",
       "      <td>5.0</td>\n",
       "      <td>0.868421</td>\n",
       "      <td>1.552632</td>\n",
       "      <td>1.657895</td>\n",
       "      <td>1.052632</td>\n",
       "    </tr>\n",
       "    <tr>\n",
       "      <th>3</th>\n",
       "      <td>1.0</td>\n",
       "      <td>6</td>\n",
       "      <td>Barcelona</td>\n",
       "      <td>1.9</td>\n",
       "      <td>0–0</td>\n",
       "      <td>0.5</td>\n",
       "      <td>Rayo Vallecano</td>\n",
       "      <td>81104.0</td>\n",
       "      <td>1.0</td>\n",
       "      <td>1.0</td>\n",
       "      <td>11.0</td>\n",
       "      <td>1.842105</td>\n",
       "      <td>1.184211</td>\n",
       "      <td>0.526316</td>\n",
       "      <td>1.394737</td>\n",
       "    </tr>\n",
       "    <tr>\n",
       "      <th>4</th>\n",
       "      <td>1.0</td>\n",
       "      <td>7</td>\n",
       "      <td>Cádiz</td>\n",
       "      <td>0.2</td>\n",
       "      <td>0–1</td>\n",
       "      <td>1.5</td>\n",
       "      <td>Real Sociedad</td>\n",
       "      <td>16570.0</td>\n",
       "      <td>0.0</td>\n",
       "      <td>14.0</td>\n",
       "      <td>4.0</td>\n",
       "      <td>0.789474</td>\n",
       "      <td>1.342105</td>\n",
       "      <td>1.394737</td>\n",
       "      <td>0.921053</td>\n",
       "    </tr>\n",
       "  </tbody>\n",
       "</table>\n",
       "</div>"
      ],
      "text/plain": [
       "    WK Day        Home   xG Score  xG.1            Away  Attendance  \\\n",
       "0  1.0   5     Osasuna  1.5   2–1   0.9         Sevilla     18536.0   \n",
       "1  1.0   6  Celta Vigo  0.4   2–2   1.1        Espanyol     13859.0   \n",
       "2  1.0   6  Valladolid  1.0   0–3   1.5      Villarreal     17543.0   \n",
       "3  1.0   6   Barcelona  1.9   0–0   0.5  Rayo Vallecano     81104.0   \n",
       "4  1.0   7       Cádiz  0.2   0–1   1.5   Real Sociedad     16570.0   \n",
       "\n",
       "   matchResults  Home Team Position  Away Team Position Goals FOR L3 (Home)  \\\n",
       "0           2.0                 7.0                12.0            0.973684   \n",
       "1           1.0                13.0                19.0            1.131579   \n",
       "2           0.0                18.0                 5.0            0.868421   \n",
       "3           1.0                 1.0                11.0            1.842105   \n",
       "4           0.0                14.0                 4.0            0.789474   \n",
       "\n",
       "  Goals FOR L3 (Away) Goals AGAINST L3 (Home) Goals AGAINST L3 (Away)  \n",
       "0            1.236842                1.105263                1.421053  \n",
       "1            1.368421                1.394737                1.815789  \n",
       "2            1.552632                1.657895                1.052632  \n",
       "3            1.184211                0.526316                1.394737  \n",
       "4            1.342105                1.394737                0.921053  "
      ]
     },
     "execution_count": 13,
     "metadata": {},
     "output_type": "execute_result"
    }
   ],
   "source": [
    "pd.set_option(\"display.max_columns\",None)\n",
    "df.head()"
   ]
  },
  {
   "cell_type": "markdown",
   "id": "ec0289a7",
   "metadata": {},
   "source": [
    "## Instead of score, we will use home goals and away goals as metrics"
   ]
  },
  {
   "cell_type": "code",
   "execution_count": 14,
   "id": "dd71b3e3",
   "metadata": {},
   "outputs": [],
   "source": [
    "homeGoals = []\n",
    "awayGoals = []\n",
    "\n",
    "for i in range(len(df[\"Score\"])):\n",
    "    homeGoals.append(int(df.iloc[i,4][0]))\n",
    "    awayGoals.append(int(df.iloc[i,4][2]))\n",
    "\n",
    "\n",
    "df[\"Home Goals\"] = homeGoals\n",
    "df[\"Away Goals\"] = awayGoals"
   ]
  },
  {
   "cell_type": "markdown",
   "id": "722ca1b5",
   "metadata": {},
   "source": [
    "## Define features and target"
   ]
  },
  {
   "cell_type": "code",
   "execution_count": 15,
   "id": "98e3c4c6",
   "metadata": {},
   "outputs": [],
   "source": [
    "target = df[\"matchResults\"]\n",
    "\n",
    "notFeatures = [\"matchResults\",\"Home\",\"Away\",\"Score\",\"Home Goals\",\"Away Goals\",\"xG\",\"xG.1\"]\n",
    "features = df.drop(notFeatures, axis=1)\n",
    "        "
   ]
  },
  {
   "cell_type": "code",
   "execution_count": 16,
   "id": "3b3bdaf9",
   "metadata": {},
   "outputs": [],
   "source": [
    "from sklearn.model_selection import train_test_split"
   ]
  },
  {
   "cell_type": "markdown",
   "id": "b093d799",
   "metadata": {},
   "source": [
    "## Separate data into training and testing\n",
    "Create and fit decision tree object"
   ]
  },
  {
   "cell_type": "code",
   "execution_count": 154,
   "id": "8ce331c2",
   "metadata": {},
   "outputs": [],
   "source": [
    "X_train, X_test, y_train, y_test = train_test_split(features, target, test_size=0.2)"
   ]
  },
  {
   "cell_type": "code",
   "execution_count": 155,
   "id": "7db9b0b2",
   "metadata": {},
   "outputs": [
    {
     "data": {
      "text/plain": [
       "0.52"
      ]
     },
     "execution_count": 155,
     "metadata": {},
     "output_type": "execute_result"
    }
   ],
   "source": [
    "from sklearn.tree import DecisionTreeClassifier\n",
    "\n",
    "dtc = DecisionTreeClassifier()\n",
    "dtc.fit(X_train,y_train)\n",
    "\n",
    "dtc.score(X_test,y_test)"
   ]
  },
  {
   "cell_type": "code",
   "execution_count": 156,
   "id": "da214058",
   "metadata": {},
   "outputs": [
    {
     "data": {
      "text/plain": [
       "0.41333333333333333"
      ]
     },
     "execution_count": 156,
     "metadata": {},
     "output_type": "execute_result"
    }
   ],
   "source": [
    "from sklearn.neighbors import KNeighborsClassifier\n",
    "\n",
    "knn = KNeighborsClassifier(n_neighbors=5)\n",
    "knn.fit(X_train,y_train)\n",
    "\n",
    "knn.score(X_test, y_test)"
   ]
  },
  {
   "cell_type": "code",
   "execution_count": 160,
   "id": "5746cbfd",
   "metadata": {},
   "outputs": [
    {
     "name": "stdout",
     "output_type": "stream",
     "text": [
      "258    1.0\n",
      "19     2.0\n",
      "250    2.0\n",
      "200    0.0\n",
      "168    2.0\n",
      "      ... \n",
      "47     2.0\n",
      "335    2.0\n",
      "127    0.0\n",
      "248    2.0\n",
      "261    2.0\n",
      "Name: matchResults, Length: 75, dtype: float64\n",
      "[2. 2. 2. 0. 1. 2. 1. 0. 2. 0. 2. 2. 0. 2. 0. 0. 2. 2. 1. 2. 2. 0. 2. 0.\n",
      " 2. 2. 0. 2. 0. 2. 0. 2. 1. 1. 2. 0. 2. 2. 0. 0. 1. 2. 2. 2. 2. 2. 2. 2.\n",
      " 0. 2. 0. 1. 0. 2. 2. 2. 2. 2. 2. 2. 2. 2. 2. 2. 0. 2. 2. 0. 0. 2. 0. 2.\n",
      " 0. 2. 2.]\n"
     ]
    },
    {
     "data": {
      "text/plain": [
       "0.6133333333333333"
      ]
     },
     "execution_count": 160,
     "metadata": {},
     "output_type": "execute_result"
    }
   ],
   "source": [
    "from sklearn.linear_model import LogisticRegression\n",
    "from sklearn import preprocessing\n",
    "\n",
    "train_scaler = preprocessing.StandardScaler().fit(X_train)\n",
    "test_scaler = preprocessing.StandardScaler().fit(X_test)\n",
    "\n",
    "X_trainScaled = train_scaler.transform(X_train)\n",
    "X_testScaled = test_scaler.transform(X_test)\n",
    "\n",
    "lrg = LogisticRegression()\n",
    "lrg.fit(X_trainScaled,y_train)\n",
    "\n",
    "print(y_test)\n",
    "print(lrg.predict(X_testScaled))\n",
    "\n",
    "lrg.score(X_testScaled, y_test)"
   ]
  },
  {
   "cell_type": "code",
   "execution_count": null,
   "id": "6924fd07",
   "metadata": {},
   "outputs": [],
   "source": []
  }
 ],
 "metadata": {
  "kernelspec": {
   "display_name": "Python 3 (ipykernel)",
   "language": "python",
   "name": "python3"
  },
  "language_info": {
   "codemirror_mode": {
    "name": "ipython",
    "version": 3
   },
   "file_extension": ".py",
   "mimetype": "text/x-python",
   "name": "python",
   "nbconvert_exporter": "python",
   "pygments_lexer": "ipython3",
   "version": "3.10.6"
  }
 },
 "nbformat": 4,
 "nbformat_minor": 5
}
